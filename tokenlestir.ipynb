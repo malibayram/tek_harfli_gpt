{
 "cells": [
  {
   "cell_type": "markdown",
   "metadata": {},
   "source": [
    "![https://i.ytimg.com/vi/zduSFxRajkE/hqdefault.jpg](https://i.ytimg.com/vi/zduSFxRajkE/hqdefault.jpg)\n",
    "\n",
    "\n",
    "[Let's build the GPT Tokenizer](https://www.youtube.com/watch?v=zduSFxRajkE)"
   ]
  },
  {
   "cell_type": "code",
   "execution_count": 11,
   "metadata": {},
   "outputs": [
    {
     "data": {
      "text/plain": [
       "('BATUHAN ERDURCAN \\n21301855 \\nTURK 101-13 ', 1773212)"
      ]
     },
     "execution_count": 11,
     "metadata": {},
     "output_type": "execute_result"
    }
   ],
   "source": [
    "# tr_texts_400.txt dosyasından metni okuyalım\n",
    "\n",
    "with open(\"tr_texts_400.txt\", \"r\") as f:\n",
    "    metin = f.read()\n",
    "\n",
    "metin[:40], len(metin)"
   ]
  },
  {
   "cell_type": "code",
   "execution_count": 2,
   "metadata": {},
   "outputs": [
    {
     "data": {
      "text/plain": [
       "32"
      ]
     },
     "execution_count": 2,
     "metadata": {},
     "output_type": "execute_result"
    }
   ],
   "source": [
    "harfler = ['a', 'b', 'c', 'ç', 'd', 'e', 'f', 'g', 'ğ', 'h', 'ı', 'i', 'j', 'k', 'l', 'm', 'n', 'o', 'ö', 'p', 'r', 's', 'ş', 't', 'u', 'ü', 'v', 'y', 'z', \n",
    "               ' ', '.', ',']\n",
    "len(harfler)"
   ]
  },
  {
   "cell_type": "code",
   "execution_count": 18,
   "metadata": {},
   "outputs": [],
   "source": [
    "def enkoder(harf):\n",
    "    harf = harf.lower()\n",
    "    if harf in harfler:\n",
    "        return harfler.index(harf)\n",
    "    else:\n",
    "        return -1"
   ]
  },
  {
   "cell_type": "code",
   "execution_count": 16,
   "metadata": {},
   "outputs": [],
   "source": [
    "def dekoder(sayi):\n",
    "    if sayi < 0 or sayi >= len(harfler):\n",
    "        return \"\"\n",
    "    else:\n",
    "        return harfler[sayi]"
   ]
  },
  {
   "cell_type": "code",
   "execution_count": 19,
   "metadata": {},
   "outputs": [
    {
     "data": {
      "text/plain": [
       "12"
      ]
     },
     "execution_count": 19,
     "metadata": {},
     "output_type": "execute_result"
    }
   ],
   "source": [
    "jeton = enkoder(\"J\")\n",
    "jeton"
   ]
  },
  {
   "cell_type": "code",
   "execution_count": 20,
   "metadata": {},
   "outputs": [
    {
     "data": {
      "text/plain": [
       "'j'"
      ]
     },
     "execution_count": 20,
     "metadata": {},
     "output_type": "execute_result"
    }
   ],
   "source": [
    "harf = dekoder(12)\n",
    "harf"
   ]
  },
  {
   "cell_type": "code",
   "execution_count": 21,
   "metadata": {},
   "outputs": [],
   "source": [
    "def jetonlastir(metin):\n",
    "    jetonlar = []\n",
    "    for harf in metin:\n",
    "        jeton = enkoder(harf)\n",
    "        if (jeton != -1):\n",
    "          jetonlar.append(jeton)\n",
    "    return jetonlar"
   ]
  },
  {
   "cell_type": "code",
   "execution_count": 23,
   "metadata": {},
   "outputs": [
    {
     "data": {
      "text/plain": [
       "1718889"
      ]
     },
     "execution_count": 23,
     "metadata": {},
     "output_type": "execute_result"
    }
   ],
   "source": [
    "metin = metin.replace(\"\\n\", \" \").replace(\"\\r\", \" \").replace(\"\\t\", \" \").replace(\"  \", \" \")\n",
    "\n",
    "while \"  \" in metin:\n",
    "    metin = metin.replace(\"  \", \" \")\n",
    "\n",
    "len(metin)"
   ]
  },
  {
   "cell_type": "code",
   "execution_count": 28,
   "metadata": {},
   "outputs": [
    {
     "data": {
      "text/plain": [
       "(1689919, [1, 0, 23, 24, 9, 0, 16, 29, 5, 20])"
      ]
     },
     "execution_count": 28,
     "metadata": {},
     "output_type": "execute_result"
    }
   ],
   "source": [
    "jetonlar = jetonlastir(metin)\n",
    "len(jetonlar), jetonlar[:10]"
   ]
  },
  {
   "cell_type": "code",
   "execution_count": 32,
   "metadata": {},
   "outputs": [
    {
     "data": {
      "text/plain": [
       "168991"
      ]
     },
     "execution_count": 32,
     "metadata": {},
     "output_type": "execute_result"
    }
   ],
   "source": [
    "dogrulama_orani = len(jetonlar) // 10\n",
    "dogrulama_orani"
   ]
  },
  {
   "cell_type": "code",
   "execution_count": 33,
   "metadata": {},
   "outputs": [
    {
     "data": {
      "text/plain": [
       "(1520928, 168991)"
      ]
     },
     "execution_count": 33,
     "metadata": {},
     "output_type": "execute_result"
    }
   ],
   "source": [
    "egitim_jetonlari = jetonlar[:-dogrulama_orani]\n",
    "dogrulama_jetonlari = jetonlar[-dogrulama_orani:]\n",
    "len(egitim_jetonlari), len(dogrulama_jetonlari)"
   ]
  },
  {
   "cell_type": "code",
   "execution_count": 34,
   "metadata": {},
   "outputs": [],
   "source": [
    "# jetonları dosyaya kaydedelim\n",
    "with open(\"egitim_jetonlari.bin\", \"wb\") as f:\n",
    "    f.write(bytes(egitim_jetonlari))\n",
    "\n",
    "with open(\"dogrulama_jetonlari.bin\", \"wb\") as f:\n",
    "    f.write(bytes(dogrulama_jetonlari))"
   ]
  }
 ],
 "metadata": {
  "kernelspec": {
   "display_name": "Python 3",
   "language": "python",
   "name": "python3"
  },
  "language_info": {
   "codemirror_mode": {
    "name": "ipython",
    "version": 3
   },
   "file_extension": ".py",
   "mimetype": "text/x-python",
   "name": "python",
   "nbconvert_exporter": "python",
   "pygments_lexer": "ipython3",
   "version": "3.9.6"
  }
 },
 "nbformat": 4,
 "nbformat_minor": 2
}
